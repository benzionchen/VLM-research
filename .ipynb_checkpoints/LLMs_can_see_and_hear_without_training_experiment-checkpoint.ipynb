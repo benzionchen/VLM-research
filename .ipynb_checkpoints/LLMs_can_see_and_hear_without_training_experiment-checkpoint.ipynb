{
 "cells": [
  {
   "cell_type": "markdown",
   "id": "ff5884a0",
   "metadata": {},
   "source": [
    "https://arxiv.org/pdf/2501.18096\n",
    "\n",
    "https://github.com/facebookresearch/MILS/tree/main\n",
    "\n",
    "\n",
    "## the overall sequence:\n",
    "1. prompt LLM to generate 32,000 random captions for 1 image\n",
    "2. feed the image + caption pairs into CLIP and output a score for the similarity\n",
    "3. append the score to the original LLM, create new captions based on these scores\n",
    "4. drop the lowest elements \n",
    "\n",
    "\n",
    "## assignment: \n",
    "\n",
    "read amit's slides: https://o365coloradoedu-my.sharepoint.com/:b:/r/personal/bech1695_colorado_edu/Documents/Attachments/MILS.pdf?csf=1&web=1&e=PJESXr\n",
    "\n",
    "take the MILS code in github and familiarize myself with the image_captioning.py (https://github.com/facebookresearch/MILS/blob/main/main_image_captioning.py)\n",
    "- can paste into chatGPT and ask what each line means and what each line is doing\n",
    "\n",
    "\n",
    "read the github and see how to get the code running\n",
    "\n",
    "\n",
    "clone the code and run it in local, make sure all of it works (might show runtime errors due to no memory, but should show that it works) \n",
    "\n",
    "\n",
    "swap out CLIP for tinyCLIP as the scorer and llama for GPT2 (then can try Qwen next) as the generator\n",
    "https://huggingface.co/Qwen/Qwen3-0.6B\n",
    "\n",
    "\n",
    "and run the code and see what the result is\n",
    "\n",
    "MISC:\n",
    "1 param of 16 bytes of FP16 = 16 billion bytes (without batching or processing + passing, etc.) requires 16 gb of memory \n"
   ]
  },
  {
   "cell_type": "code",
   "execution_count": null,
   "id": "b42e1b47",
   "metadata": {},
   "outputs": [],
   "source": []
  }
 ],
 "metadata": {
  "kernelspec": {
   "display_name": "Python 3 (ipykernel)",
   "language": "python",
   "name": "python3"
  },
  "language_info": {
   "codemirror_mode": {
    "name": "ipython",
    "version": 3
   },
   "file_extension": ".py",
   "mimetype": "text/x-python",
   "name": "python",
   "nbconvert_exporter": "python",
   "pygments_lexer": "ipython3",
   "version": "3.9.13"
  }
 },
 "nbformat": 4,
 "nbformat_minor": 5
}
